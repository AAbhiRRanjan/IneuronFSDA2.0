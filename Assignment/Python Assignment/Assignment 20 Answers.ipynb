{
 "cells": [
  {
   "cell_type": "markdown",
   "id": "f047fa33",
   "metadata": {},
   "source": [
    "# Python Assignment 20"
   ]
  },
  {
   "cell_type": "markdown",
   "id": "faa76933",
   "metadata": {},
   "source": [
    "Q1. Set the variable test1 to the string 'This is a test of the emergency text system,' and save test1 to a file named test.txt."
   ]
  },
  {
   "cell_type": "markdown",
   "id": "25f4b79d",
   "metadata": {},
   "source": [
    "Answer 1."
   ]
  },
  {
   "cell_type": "code",
   "execution_count": 1,
   "id": "c798951f",
   "metadata": {},
   "outputs": [],
   "source": [
    "test1 = 'This is a test of the emergency text system'\n",
    "with open('test.txt', 'w') as f:\n",
    "    f.write(test1)"
   ]
  },
  {
   "cell_type": "markdown",
   "id": "6a7da981",
   "metadata": {},
   "source": [
    "Q2. Read the contents of the file test.txt into the variable test2. Is there a difference between test 1 and test 2?"
   ]
  },
  {
   "cell_type": "markdown",
   "id": "15590e26",
   "metadata": {},
   "source": [
    "Answer 2."
   ]
  },
  {
   "cell_type": "code",
   "execution_count": 2,
   "id": "7522a465",
   "metadata": {},
   "outputs": [
    {
     "name": "stdout",
     "output_type": "stream",
     "text": [
      "True\n"
     ]
    }
   ],
   "source": [
    "with open('test.txt', 'r') as f:\n",
    "    test2 = f.read()\n",
    "    \n",
    "print(test1 == test2)"
   ]
  },
  {
   "cell_type": "markdown",
   "id": "b2966fac",
   "metadata": {},
   "source": [
    "Q3. Create a CSV file called books.csv by using these lines:\n",
    "title,author,year\n",
    "The Weirdstone of Brisingamen,Alan Garner,1960\n",
    "Perdido Street Station,China Miéville,2000\n",
    "Thud!,Terry Pratchett,2005\n",
    "The Spellman Files,Lisa Lutz,2007\n",
    "Small Gods,Terry Pratchett,1992\n"
   ]
  },
  {
   "cell_type": "markdown",
   "id": "c4404cd5",
   "metadata": {},
   "source": [
    "Answer 3."
   ]
  },
  {
   "cell_type": "code",
   "execution_count": 3,
   "id": "1105160a",
   "metadata": {},
   "outputs": [],
   "source": [
    "import csv\n",
    "\n",
    "lines = [\n",
    "    ['title', 'author', 'year'],\n",
    "    ['The Weirdstone of Brisingamen', 'Alan Garner', '1960'],\n",
    "    ['Perdido Street Station', 'China Miéville', '2000'],\n",
    "    ['Thud!', 'Terry Pratchett', '2005'],\n",
    "    ['The Spellman Files', 'Lisa Lutz', '2007'],\n",
    "    ['Small Gods', 'Terry Pratchett', '1992']\n",
    "]\n",
    "\n",
    "with open('books.csv', 'w', newline='') as f:\n",
    "    writer = csv.writer(f)\n",
    "    writer.writerows(lines)"
   ]
  },
  {
   "cell_type": "markdown",
   "id": "2eb355c2",
   "metadata": {},
   "source": [
    "Q4. Use the sqlite3 module to create a SQLite database called books.db, and a table called books with these fields: title (text), author (text), and year (integer)."
   ]
  },
  {
   "cell_type": "markdown",
   "id": "9f607389",
   "metadata": {},
   "source": [
    "Answer 4."
   ]
  },
  {
   "cell_type": "code",
   "execution_count": 4,
   "id": "0ab9fdd3",
   "metadata": {},
   "outputs": [],
   "source": [
    "import sqlite3\n",
    "\n",
    "conn = sqlite3.connect('books.db')\n",
    "c = conn.cursor()\n",
    "\n",
    "c.execute('''\n",
    "    CREATE TABLE books\n",
    "    (title TEXT, author TEXT, year INTEGER)\n",
    "''')\n",
    "\n",
    "conn.commit()\n",
    "conn.close()"
   ]
  },
  {
   "cell_type": "markdown",
   "id": "238de507",
   "metadata": {},
   "source": [
    "Q5. Read books.csv and insert its data into the book table."
   ]
  },
  {
   "cell_type": "markdown",
   "id": "a6f01f15",
   "metadata": {},
   "source": [
    "Answer 5."
   ]
  },
  {
   "cell_type": "code",
   "execution_count": 5,
   "id": "adde02b3",
   "metadata": {},
   "outputs": [],
   "source": [
    "import csv\n",
    "import sqlite3\n",
    "\n",
    "conn = sqlite3.connect('books.db')\n",
    "c = conn.cursor()\n",
    "\n",
    "# Create the books table if it doesn't already exist\n",
    "c.execute('''\n",
    "    CREATE TABLE IF NOT EXISTS books\n",
    "    (title TEXT, author TEXT, year INTEGER)\n",
    "''')\n",
    "\n",
    "# Read the data from the CSV file and insert it into the books table\n",
    "with open('books.csv', 'r') as f:\n",
    "    reader = csv.reader(f)\n",
    "    next(reader)  # skip the header row\n",
    "    for row in reader:\n",
    "        c.execute('INSERT INTO books VALUES (?, ?, ?)', row)\n",
    "\n",
    "conn.commit()\n",
    "conn.close()"
   ]
  },
  {
   "cell_type": "markdown",
   "id": "098cdd74",
   "metadata": {},
   "source": [
    "Q6. Select and print the title column from the book table in alphabetical order."
   ]
  },
  {
   "cell_type": "markdown",
   "id": "140983c2",
   "metadata": {},
   "source": [
    "Answer 6."
   ]
  },
  {
   "cell_type": "code",
   "execution_count": 6,
   "id": "ecd4b990",
   "metadata": {},
   "outputs": [
    {
     "name": "stdout",
     "output_type": "stream",
     "text": [
      "Perdido Street Station\n",
      "Small Gods\n",
      "The Spellman Files\n",
      "The Weirdstone of Brisingamen\n",
      "Thud!\n"
     ]
    }
   ],
   "source": [
    "import sqlite3\n",
    "\n",
    "conn = sqlite3.connect('books.db')\n",
    "c = conn.cursor()\n",
    "\n",
    "# Select the title column from the books table in alphabetical order\n",
    "c.execute('SELECT title FROM books ORDER BY title ASC')\n",
    "titles = c.fetchall()\n",
    "\n",
    "# Print the title column\n",
    "for title in titles:\n",
    "    print(title[0])\n",
    "\n",
    "conn.close()"
   ]
  },
  {
   "cell_type": "markdown",
   "id": "d3bdd0f0",
   "metadata": {},
   "source": [
    "Q7. From the book table, select and print all columns in the order of publication."
   ]
  },
  {
   "cell_type": "markdown",
   "id": "a6dad88e",
   "metadata": {},
   "source": [
    "Answer 7."
   ]
  },
  {
   "cell_type": "code",
   "execution_count": 8,
   "id": "9ea0ba74",
   "metadata": {},
   "outputs": [
    {
     "name": "stdout",
     "output_type": "stream",
     "text": [
      "('The Weirdstone of Brisingamen', 'Alan Garner', 1960)\n",
      "('Small Gods', 'Terry Pratchett', 1992)\n",
      "('Perdido Street Station', 'China Miéville', 2000)\n",
      "('Thud!', 'Terry Pratchett', 2005)\n",
      "('The Spellman Files', 'Lisa Lutz', 2007)\n"
     ]
    }
   ],
   "source": [
    "import sqlite3\n",
    "\n",
    "conn = sqlite3.connect('books.db')\n",
    "c = conn.cursor()\n",
    "\n",
    "# Select all columns from the books table in the order of publication\n",
    "c.execute('SELECT * FROM books ORDER BY year ASC')\n",
    "books = c.fetchall()\n",
    "\n",
    "# Print all columns in the order of publication\n",
    "for book in books:\n",
    "    print(book)\n",
    "\n",
    "conn.close()"
   ]
  },
  {
   "cell_type": "markdown",
   "id": "74c21b5c",
   "metadata": {},
   "source": [
    "Q8. Use the sqlalchemy module to connect to the sqlite3 database books.db that you just made in exercise 6."
   ]
  },
  {
   "cell_type": "markdown",
   "id": "390764ef",
   "metadata": {},
   "source": [
    "Answer 8."
   ]
  },
  {
   "cell_type": "code",
   "execution_count": 9,
   "id": "0f79475f",
   "metadata": {},
   "outputs": [],
   "source": [
    "from sqlalchemy import create_engine\n",
    "\n",
    "engine = create_engine('sqlite:///books.db')"
   ]
  },
  {
   "cell_type": "markdown",
   "id": "0926cb42",
   "metadata": {},
   "source": [
    "Q9. Install the Redis server and the Python redis library (pip install redis) on your computer. Create a Redis hash called test with the fields count (1) and name ('Fester Bestertester'). Print all the fields for test."
   ]
  },
  {
   "cell_type": "markdown",
   "id": "5058a3cc",
   "metadata": {},
   "source": [
    "Answer 9."
   ]
  },
  {
   "cell_type": "markdown",
   "id": "19e9a7b8",
   "metadata": {},
   "source": [
    "import redis"
   ]
  },
  {
   "cell_type": "markdown",
   "id": "e4592673",
   "metadata": {},
   "source": [
    "# Connect to Redis server"
   ]
  },
  {
   "cell_type": "markdown",
   "id": "8a9b4e4c",
   "metadata": {},
   "source": [
    "r = redis.Redis(host='localhost', port=6379, db=0)"
   ]
  },
  {
   "cell_type": "markdown",
   "id": "0fea5ec6",
   "metadata": {},
   "source": [
    "# Create Redis hash called test with the fields count (1) and name ('Fester Bestertester')"
   ]
  },
  {
   "cell_type": "markdown",
   "id": "ca5e964c",
   "metadata": {},
   "source": [
    "r.hmset('test', {'count': 1, 'name': 'Fester Bestertester'})\n"
   ]
  },
  {
   "cell_type": "markdown",
   "id": "4ccead40",
   "metadata": {},
   "source": [
    "# Print all fields for test"
   ]
  },
  {
   "cell_type": "markdown",
   "id": "a8389c83",
   "metadata": {},
   "source": [
    "print(r.hgetall('test'))\n",
    "\n",
    "In this code, we first import the redis module.\n",
    "\n",
    "We then use the Redis() constructor to connect to the Redis server running on localhost at port 6379, using database 0.\n",
    "\n",
    "We use the hmset() method to create a Redis hash called test with the fields count (1) and name ('Fester Bestertester').\n",
    "\n",
    "Finally, we use the hgetall() method to print all the fields for the test hash, which returns a dictionary with the field names and their values."
   ]
  },
  {
   "cell_type": "markdown",
   "id": "e7e5a9f0",
   "metadata": {},
   "source": [
    "Q10. Increment the count field of test and print it."
   ]
  },
  {
   "cell_type": "markdown",
   "id": "3699cdc1",
   "metadata": {},
   "source": [
    "Answer 10."
   ]
  },
  {
   "cell_type": "markdown",
   "id": "7feb6627",
   "metadata": {},
   "source": [
    "import redis"
   ]
  },
  {
   "cell_type": "markdown",
   "id": "c254eef7",
   "metadata": {},
   "source": [
    "# Connect to Redis server"
   ]
  },
  {
   "cell_type": "markdown",
   "id": "a831386f",
   "metadata": {},
   "source": [
    "r = redis.Redis(host='localhost', port=6379, db=0)"
   ]
  },
  {
   "cell_type": "markdown",
   "id": "55f340fc",
   "metadata": {},
   "source": [
    "Increment the count field of test and print it"
   ]
  },
  {
   "cell_type": "markdown",
   "id": "0aca183d",
   "metadata": {},
   "source": [
    "r.hincrby('test', 'count', 1)\n",
    "\n",
    "print(r.hget('test', 'count'))\n",
    "\n",
    "In this code, we first import the redis module.\n",
    "\n",
    "We then use the Redis() constructor to connect to the Redis server running on localhost at port 6379, using database 0.\n",
    "\n",
    "We use the hincrby() method to increment the count field of test Redis hash by 1.\n",
    "\n",
    "Finally, we use the hget() method to print the value of the count field of test."
   ]
  },
  {
   "cell_type": "code",
   "execution_count": null,
   "id": "683f42bb",
   "metadata": {},
   "outputs": [],
   "source": []
  }
 ],
 "metadata": {
  "kernelspec": {
   "display_name": "Python 3 (ipykernel)",
   "language": "python",
   "name": "python3"
  },
  "language_info": {
   "codemirror_mode": {
    "name": "ipython",
    "version": 3
   },
   "file_extension": ".py",
   "mimetype": "text/x-python",
   "name": "python",
   "nbconvert_exporter": "python",
   "pygments_lexer": "ipython3",
   "version": "3.10.9"
  }
 },
 "nbformat": 4,
 "nbformat_minor": 5
}
