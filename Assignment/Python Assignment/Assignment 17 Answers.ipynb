{
 "cells": [
  {
   "cell_type": "markdown",
   "id": "26f2a26b",
   "metadata": {},
   "source": [
    "# Python Assignment 17"
   ]
  },
  {
   "cell_type": "markdown",
   "id": "776f1061",
   "metadata": {},
   "source": [
    "Q1. Assign the value 7 to the variable guess_me. Then, write the conditional tests (if, else, and elif) to print the string 'too low' if guess_me is less than 7, 'too high' if greater than 7, and 'just right' if equal to 7."
   ]
  },
  {
   "cell_type": "markdown",
   "id": "198e461b",
   "metadata": {},
   "source": [
    "Answer 1."
   ]
  },
  {
   "cell_type": "code",
   "execution_count": 1,
   "id": "258b61db",
   "metadata": {},
   "outputs": [
    {
     "name": "stdout",
     "output_type": "stream",
     "text": [
      "just right\n"
     ]
    }
   ],
   "source": [
    "guess_me = 7\n",
    "\n",
    "if guess_me < 7:\n",
    "    print('too low')\n",
    "elif guess_me > 7:\n",
    "    print('too high')\n",
    "else:\n",
    "    print('just right')"
   ]
  },
  {
   "cell_type": "markdown",
   "id": "7f433223",
   "metadata": {},
   "source": [
    "Q2. Assign the value 7 to the variable guess_me and the value 1 to the variable start. Write a while loop that compares start with guess_me. Print too low if start is less than guess me. If start equals guess_me, print 'found it!' and exit the loop. If start is greater than guess_me, print 'oops' and exit the loop. Increment start at the end of the loop."
   ]
  },
  {
   "cell_type": "markdown",
   "id": "36444b71",
   "metadata": {},
   "source": [
    "Answer 2."
   ]
  },
  {
   "cell_type": "code",
   "execution_count": 2,
   "id": "02c97e9d",
   "metadata": {},
   "outputs": [
    {
     "name": "stdout",
     "output_type": "stream",
     "text": [
      "too low\n",
      "too low\n",
      "too low\n",
      "too low\n",
      "too low\n",
      "too low\n",
      "found it!\n"
     ]
    }
   ],
   "source": [
    "guess_me = 7\n",
    "start = 1\n",
    "\n",
    "while True:\n",
    "    if start < guess_me:\n",
    "        print('too low')\n",
    "    elif start == guess_me:\n",
    "        print('found it!')\n",
    "        break\n",
    "    else:\n",
    "        print('oops')\n",
    "        break\n",
    "    start += 1"
   ]
  },
  {
   "cell_type": "markdown",
   "id": "c2716482",
   "metadata": {},
   "source": [
    "Q3. Print the following values of the list [3, 2, 1, 0] using a for loop."
   ]
  },
  {
   "cell_type": "markdown",
   "id": "110ae187",
   "metadata": {},
   "source": [
    "Answer 3."
   ]
  },
  {
   "cell_type": "code",
   "execution_count": 3,
   "id": "cf49fe2a",
   "metadata": {},
   "outputs": [
    {
     "name": "stdout",
     "output_type": "stream",
     "text": [
      "3\n",
      "2\n",
      "1\n",
      "0\n"
     ]
    }
   ],
   "source": [
    "my_list = [3, 2, 1, 0]\n",
    "for value in my_list:\n",
    "    print(value)"
   ]
  },
  {
   "cell_type": "markdown",
   "id": "a65f715e",
   "metadata": {},
   "source": [
    "Q4. Use a list comprehension to make a list of the even numbers in range(10)"
   ]
  },
  {
   "cell_type": "markdown",
   "id": "02450c98",
   "metadata": {},
   "source": [
    "Answer 4."
   ]
  },
  {
   "cell_type": "code",
   "execution_count": 4,
   "id": "fb073e91",
   "metadata": {},
   "outputs": [
    {
     "name": "stdout",
     "output_type": "stream",
     "text": [
      "[0, 2, 4, 6, 8]\n"
     ]
    }
   ],
   "source": [
    "even_numbers = [num for num in range(10) if num % 2 == 0]\n",
    "print(even_numbers)"
   ]
  },
  {
   "cell_type": "markdown",
   "id": "50e27cca",
   "metadata": {},
   "source": [
    "Q5. Use a dictionary comprehension to create the dictionary squares. Use range(10) to return the keys, and use the square of each key as its value."
   ]
  },
  {
   "cell_type": "markdown",
   "id": "8da5f861",
   "metadata": {},
   "source": [
    "Answer 5."
   ]
  },
  {
   "cell_type": "code",
   "execution_count": 5,
   "id": "fe669773",
   "metadata": {},
   "outputs": [
    {
     "name": "stdout",
     "output_type": "stream",
     "text": [
      "{0: 0, 1: 1, 2: 4, 3: 9, 4: 16, 5: 25, 6: 36, 7: 49, 8: 64, 9: 81}\n"
     ]
    }
   ],
   "source": [
    "squares = {num: num**2 for num in range(10)}\n",
    "print(squares)"
   ]
  },
  {
   "cell_type": "markdown",
   "id": "32d18b50",
   "metadata": {},
   "source": [
    "Q6. Construct the set odd from the odd numbers in the range using a set comprehension (10)."
   ]
  },
  {
   "cell_type": "markdown",
   "id": "fa7c3d7e",
   "metadata": {},
   "source": [
    "Answer 6."
   ]
  },
  {
   "cell_type": "code",
   "execution_count": 6,
   "id": "a63aac92",
   "metadata": {},
   "outputs": [
    {
     "name": "stdout",
     "output_type": "stream",
     "text": [
      "{1, 3, 5, 7, 9}\n"
     ]
    }
   ],
   "source": [
    "odd = {num for num in range(10) if num % 2 != 0}\n",
    "print(odd)"
   ]
  },
  {
   "cell_type": "markdown",
   "id": "4d6a433f",
   "metadata": {},
   "source": [
    "Q7. Use a generator comprehension to return the string 'Got ' and a number for the numbers in range(10). Iterate through this by using a for loop."
   ]
  },
  {
   "cell_type": "markdown",
   "id": "09cbf2e3",
   "metadata": {},
   "source": [
    "Answer 7."
   ]
  },
  {
   "cell_type": "code",
   "execution_count": 7,
   "id": "da8c599f",
   "metadata": {},
   "outputs": [
    {
     "name": "stdout",
     "output_type": "stream",
     "text": [
      "Got 0\n",
      "Got 1\n",
      "Got 2\n",
      "Got 3\n",
      "Got 4\n",
      "Got 5\n",
      "Got 6\n",
      "Got 7\n",
      "Got 8\n",
      "Got 9\n"
     ]
    }
   ],
   "source": [
    "my_generator = ('Got ' + str(num) for num in range(10))\n",
    "\n",
    "for value in my_generator:\n",
    "    print(value)"
   ]
  },
  {
   "cell_type": "markdown",
   "id": "b25a4cc7",
   "metadata": {},
   "source": [
    "Q8. Define a function called good that returns the list ['Harry', 'Ron', 'Hermione']."
   ]
  },
  {
   "cell_type": "markdown",
   "id": "faeb8cbe",
   "metadata": {},
   "source": [
    "Answer 8."
   ]
  },
  {
   "cell_type": "code",
   "execution_count": 8,
   "id": "1c8e4714",
   "metadata": {},
   "outputs": [],
   "source": [
    "def good():\n",
    "    return ['Harry', 'Ron', 'Hermione']"
   ]
  },
  {
   "cell_type": "code",
   "execution_count": 9,
   "id": "1c0b2326",
   "metadata": {},
   "outputs": [
    {
     "data": {
      "text/plain": [
       "['Harry', 'Ron', 'Hermione']"
      ]
     },
     "execution_count": 9,
     "metadata": {},
     "output_type": "execute_result"
    }
   ],
   "source": [
    "good()"
   ]
  },
  {
   "cell_type": "markdown",
   "id": "4b871462",
   "metadata": {},
   "source": [
    "Q9. Define a generator function called get_odds that returns the odd numbers from range(10). Use a for loop to find and print the third value returned."
   ]
  },
  {
   "cell_type": "markdown",
   "id": "2f4d7fa4",
   "metadata": {},
   "source": [
    "Answer 9."
   ]
  },
  {
   "cell_type": "code",
   "execution_count": 10,
   "id": "6a112ad8",
   "metadata": {},
   "outputs": [],
   "source": [
    "def get_odds():\n",
    "    for num in range(10):\n",
    "        if num % 2 != 0:\n",
    "            yield num"
   ]
  },
  {
   "cell_type": "code",
   "execution_count": 11,
   "id": "b5ed3e55",
   "metadata": {},
   "outputs": [
    {
     "name": "stdout",
     "output_type": "stream",
     "text": [
      "The third odd number is: 5\n"
     ]
    }
   ],
   "source": [
    "def get_odds():\n",
    "    for num in range(10):\n",
    "        if num % 2 != 0:\n",
    "            yield num\n",
    "\n",
    "# use a for loop to find and print the third value returned\n",
    "count = 0\n",
    "for odd_num in get_odds():\n",
    "    count += 1\n",
    "    if count == 3:\n",
    "        print(\"The third odd number is:\", odd_num)\n",
    "        break"
   ]
  },
  {
   "cell_type": "markdown",
   "id": "f3be7750",
   "metadata": {},
   "source": [
    "Q10. Define an exception called OopsException. Raise this exception to see what happens. Then write the code to catch this exception and print 'Caught an oops'."
   ]
  },
  {
   "cell_type": "markdown",
   "id": "135ccad6",
   "metadata": {},
   "source": [
    "Answer 10."
   ]
  },
  {
   "cell_type": "markdown",
   "id": "e04ad934",
   "metadata": {},
   "source": [
    "# define the exception"
   ]
  },
  {
   "cell_type": "code",
   "execution_count": 14,
   "id": "08c5e616",
   "metadata": {},
   "outputs": [],
   "source": [
    "class OopsException(Exception): pass"
   ]
  },
  {
   "cell_type": "markdown",
   "id": "5141ed5d",
   "metadata": {},
   "source": [
    "# raise the exception"
   ]
  },
  {
   "cell_type": "code",
   "execution_count": 16,
   "id": "80beddd1",
   "metadata": {},
   "outputs": [
    {
     "ename": "OopsException",
     "evalue": "",
     "output_type": "error",
     "traceback": [
      "\u001b[1;31m---------------------------------------------------------------------------\u001b[0m",
      "\u001b[1;31mOopsException\u001b[0m                             Traceback (most recent call last)",
      "Cell \u001b[1;32mIn[16], line 1\u001b[0m\n\u001b[1;32m----> 1\u001b[0m \u001b[38;5;28;01mraise\u001b[39;00m OopsException\n",
      "\u001b[1;31mOopsException\u001b[0m: "
     ]
    }
   ],
   "source": [
    "raise OopsException"
   ]
  },
  {
   "cell_type": "markdown",
   "id": "b3a42b00",
   "metadata": {},
   "source": [
    "# catch the exception"
   ]
  },
  {
   "cell_type": "markdown",
   "id": "edc4126a",
   "metadata": {},
   "source": [
    "try: raise OopsException except OopsException: print(\"Caught an oops\")\n",
    "\n",
    "In this code, the class keyword is used to define a new exception called OopsException. This exception simply inherits from the base Exception class, so it doesn't have any new behavior of its own.\n",
    "\n",
    "The raise keyword is used to raise an instance of the OopsException exception. This will cause the program to stop running and print an error message, unless the exception is caught and handled.\n",
    "\n",
    "The try and except keywords are used to catch the OopsException exception that was raised. Inside the try block, we raise the exception again. If the exception is raised successfully, the program will jump to the except block, where the message \"Caught an oops\" will be printed. This code will output the following message:"
   ]
  },
  {
   "cell_type": "markdown",
   "id": "40654c23",
   "metadata": {},
   "source": [
    "# Caught an oops"
   ]
  },
  {
   "cell_type": "markdown",
   "id": "6e4950f6",
   "metadata": {},
   "source": [
    "This is because we've caught the OopsException exception and printed a message indicating that we've done so."
   ]
  },
  {
   "cell_type": "markdown",
   "id": "bc5afbf9",
   "metadata": {},
   "source": [
    "Q11. Use zip() to make a dictionary called movies that pairs these lists: titles = ['Creature of Habit', 'Crewel Fate'] and plots = ['A nun turns into a monster', 'A haunted yarn shop']."
   ]
  },
  {
   "cell_type": "markdown",
   "id": "a075794f",
   "metadata": {},
   "source": [
    "Answer 11."
   ]
  },
  {
   "cell_type": "code",
   "execution_count": 18,
   "id": "a8c1e3da",
   "metadata": {},
   "outputs": [
    {
     "name": "stdout",
     "output_type": "stream",
     "text": [
      "{'Creature of Habit': 'A nun turns into a monster', 'Crewel Fate': 'A haunted yarn shop'}\n"
     ]
    }
   ],
   "source": [
    "titles = ['Creature of Habit', 'Crewel Fate']\n",
    "plots = ['A nun turns into a monster', 'A haunted yarn shop']\n",
    "\n",
    "# create a dictionary using zip()\n",
    "movies = dict(zip(titles, plots))\n",
    "\n",
    "# print the resulting dictionary\n",
    "print(movies)"
   ]
  },
  {
   "cell_type": "code",
   "execution_count": null,
   "id": "5cbe4d86",
   "metadata": {},
   "outputs": [],
   "source": []
  }
 ],
 "metadata": {
  "kernelspec": {
   "display_name": "Python 3 (ipykernel)",
   "language": "python",
   "name": "python3"
  },
  "language_info": {
   "codemirror_mode": {
    "name": "ipython",
    "version": 3
   },
   "file_extension": ".py",
   "mimetype": "text/x-python",
   "name": "python",
   "nbconvert_exporter": "python",
   "pygments_lexer": "ipython3",
   "version": "3.10.9"
  }
 },
 "nbformat": 4,
 "nbformat_minor": 5
}
