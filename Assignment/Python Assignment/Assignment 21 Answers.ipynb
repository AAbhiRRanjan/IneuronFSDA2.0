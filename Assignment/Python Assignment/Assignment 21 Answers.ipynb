{
 "cells": [
  {
   "cell_type": "markdown",
   "id": "b8908494",
   "metadata": {},
   "source": [
    "# Python Assignment 21"
   ]
  },
  {
   "cell_type": "markdown",
   "id": "50533a39",
   "metadata": {},
   "source": [
    "Q1. Add the current date to the text file today.txt as a string."
   ]
  },
  {
   "cell_type": "markdown",
   "id": "7c9864bb",
   "metadata": {},
   "source": [
    "Answer 1."
   ]
  },
  {
   "cell_type": "code",
   "execution_count": 1,
   "id": "b28df71c",
   "metadata": {},
   "outputs": [],
   "source": [
    "from datetime import date\n",
    "\n",
    "today = date.today()\n",
    "with open('today.txt', 'a') as file:\n",
    "    file.write(str(today) + '\\n')"
   ]
  },
  {
   "cell_type": "markdown",
   "id": "4c86664a",
   "metadata": {},
   "source": [
    "Q2. Read the text file today.txt into the string today_string"
   ]
  },
  {
   "cell_type": "markdown",
   "id": "b078e1cc",
   "metadata": {},
   "source": [
    "Answer 2."
   ]
  },
  {
   "cell_type": "code",
   "execution_count": 2,
   "id": "b3eb9530",
   "metadata": {},
   "outputs": [],
   "source": [
    "with open('today.txt', 'r') as file:\n",
    "    today_string = file.read()"
   ]
  },
  {
   "cell_type": "markdown",
   "id": "418f66bb",
   "metadata": {},
   "source": [
    "Q3. Parse the date from today_string."
   ]
  },
  {
   "cell_type": "markdown",
   "id": "af5c0876",
   "metadata": {},
   "source": [
    "Answer 3."
   ]
  },
  {
   "cell_type": "code",
   "execution_count": 3,
   "id": "1bffded1",
   "metadata": {},
   "outputs": [],
   "source": [
    "from datetime import datetime\n",
    "\n",
    "date_str = today_string.strip()  # remove any trailing whitespace\n",
    "parsed_date = datetime.strptime(date_str, '%Y-%m-%d').date()"
   ]
  },
  {
   "cell_type": "markdown",
   "id": "06e59b86",
   "metadata": {},
   "source": [
    "Q4. List the files in your current directory"
   ]
  },
  {
   "cell_type": "markdown",
   "id": "73ee954c",
   "metadata": {},
   "source": [
    "Answer 4."
   ]
  },
  {
   "cell_type": "code",
   "execution_count": 4,
   "id": "793a006c",
   "metadata": {},
   "outputs": [
    {
     "name": "stdout",
     "output_type": "stream",
     "text": [
      "['.android', '.conda', '.condarc', '.continuum', '.InstallAnywhere', '.ipynb_checkpoints', '.ipython', '.jupyter', '.ms-ad', '0_Python - Output Statements.ipynb', '0_Python - Strings.ipynb', '1_Python - Input Statements.ipynb', '1_Python - Strings Operations.ipynb', '2_Python - Modules and Packages.ipynb', '3D Objects', '3_Python - Data Types and Type casting.ipynb', '4_Python - Sets.ipynb', '4_Python - Variables, Expressions _ Statements.ipynb', '5_Python - Tuples.ipynb', '6_Python - Dictionaries.ipynb', '7_Python - Conditional Executions.ipynb', '8_Python - Iterative  Executions.ipynb', 'ansel', 'AppData', 'Application Data', 'Autodesk', 'books.csv', 'books.db', 'Contacts', 'Cookies', 'Creative Cloud Files', 'Desktop', 'Documents', 'Downloads', 'Favorites', 'Intel', 'IntelGraphicsProfiles', 'Links', 'Local Settings', 'Microsoft', 'Music', 'My Documents', 'NetHood', 'NTUSER.DAT', 'ntuser.dat.LOG1', 'ntuser.dat.LOG2', 'NTUSER.DAT{53b39e88-18c4-11ea-a811-000d3aa4692b}.TM.blf', 'NTUSER.DAT{53b39e88-18c4-11ea-a811-000d3aa4692b}.TMContainer00000000000000000001.regtrans-ms', 'NTUSER.DAT{53b39e88-18c4-11ea-a811-000d3aa4692b}.TMContainer00000000000000000002.regtrans-ms', 'ntuser.ini', 'OneDrive', 'Pictures', 'PrintHood', 'Python Assignment 18.ipynb', 'Python First Class.ipynb', 'Python_First_Class.ipynb', 'Recent', 'retail_python_script.py', 'Roaming', 'Saved Games', 'Searches', 'SendTo', 'Start Menu', 'Templates', 'test.txt', 'today.txt', 'Tracing', 'untitled', 'Untitled.ipynb', 'Untitled1.ipynb', 'Untitled10.ipynb', 'Untitled11.ipynb', 'Untitled12.ipynb', 'Untitled2.ipynb', 'Untitled3.ipynb', 'Untitled4.ipynb', 'Untitled5.ipynb', 'Untitled6.ipynb', 'Untitled7.ipynb', 'Untitled8.ipynb', 'Untitled9.ipynb', 'Videos']\n"
     ]
    }
   ],
   "source": [
    "import os\n",
    "\n",
    "files = os.listdir('.')\n",
    "print(files)"
   ]
  },
  {
   "cell_type": "markdown",
   "id": "9a278029",
   "metadata": {},
   "source": [
    "Q5. Create a list of all of the files in your parent directory (minimum five files should be available)."
   ]
  },
  {
   "cell_type": "markdown",
   "id": "de3aaa9c",
   "metadata": {},
   "source": [
    "Answer 5."
   ]
  },
  {
   "cell_type": "code",
   "execution_count": 5,
   "id": "c30a35ce",
   "metadata": {},
   "outputs": [
    {
     "name": "stdout",
     "output_type": "stream",
     "text": [
      "['Abhishek', 'All Users', 'Default', 'Default User', 'desktop.ini', 'Public']\n"
     ]
    }
   ],
   "source": [
    "import os\n",
    "\n",
    "parent_dir = os.path.abspath('..')\n",
    "files = os.listdir(parent_dir)\n",
    "print(files)"
   ]
  },
  {
   "cell_type": "markdown",
   "id": "05aaf390",
   "metadata": {},
   "source": [
    "Q6. Use multiprocessing to create three separate processes. Make each one wait a random number of seconds between one and five, print the current time, and then exit."
   ]
  },
  {
   "cell_type": "markdown",
   "id": "cf38f9da",
   "metadata": {},
   "source": [
    "Answer 6."
   ]
  },
  {
   "cell_type": "code",
   "execution_count": 6,
   "id": "ae96945a",
   "metadata": {},
   "outputs": [],
   "source": [
    "import multiprocessing\n",
    "import random\n",
    "import time\n",
    "import datetime\n",
    "\n",
    "def worker():\n",
    "    wait_time = random.randint(1, 5)\n",
    "    time.sleep(wait_time)\n",
    "    current_time = datetime.datetime.now().strftime('%Y-%m-%d %H:%M:%S')\n",
    "    print(f\"Process {multiprocessing.current_process().name} waited {wait_time} seconds and finished at {current_time}.\")\n",
    "\n",
    "if __name__ == '__main__':\n",
    "    for i in range(3):\n",
    "        process = multiprocessing.Process(target=worker, name=f\"Worker-{i}\")\n",
    "        process.start()"
   ]
  },
  {
   "cell_type": "markdown",
   "id": "1a615b1c",
   "metadata": {},
   "source": [
    "Q7. Create a date object of your day of birth."
   ]
  },
  {
   "cell_type": "markdown",
   "id": "a7a16420",
   "metadata": {},
   "source": [
    "Answer 7."
   ]
  },
  {
   "cell_type": "code",
   "execution_count": 8,
   "id": "87d070ca",
   "metadata": {},
   "outputs": [
    {
     "name": "stdout",
     "output_type": "stream",
     "text": [
      "1999-04-06\n"
     ]
    }
   ],
   "source": [
    "from datetime import date\n",
    "\n",
    "birth_date = date(1999, 4, 6)  \n",
    "print(birth_date)"
   ]
  },
  {
   "cell_type": "markdown",
   "id": "982e793c",
   "metadata": {},
   "source": [
    "Q8. What day of the week was your day of birth?"
   ]
  },
  {
   "cell_type": "markdown",
   "id": "74518b7c",
   "metadata": {},
   "source": [
    "Answer 8."
   ]
  },
  {
   "cell_type": "code",
   "execution_count": 13,
   "id": "1d53b89d",
   "metadata": {},
   "outputs": [
    {
     "name": "stdout",
     "output_type": "stream",
     "text": [
      "Tuesday\n"
     ]
    }
   ],
   "source": [
    "from datetime import date\n",
    "\n",
    "birth_date = date(1999, 4, 6) \n",
    "day_of_week = birth_date.strftime(\"%A\")\n",
    "print(day_of_week)"
   ]
  },
  {
   "cell_type": "markdown",
   "id": "2202f31c",
   "metadata": {},
   "source": [
    "Q9. When will you be (or when were you) 10,000 days old?"
   ]
  },
  {
   "cell_type": "markdown",
   "id": "5f13dade",
   "metadata": {},
   "source": [
    "Answer 9."
   ]
  },
  {
   "cell_type": "code",
   "execution_count": 16,
   "id": "d55cb19c",
   "metadata": {},
   "outputs": [
    {
     "name": "stdout",
     "output_type": "stream",
     "text": [
      "You will be (or were) 10,000 days old on 2026-08-22\n"
     ]
    }
   ],
   "source": [
    "import datetime\n",
    "\n",
    "birthdate = datetime.date(1999, 4, 6) \n",
    "ten_thousand_days = datetime.timedelta(days=10000)\n",
    "\n",
    "ten_thousand_days_old = birthdate + ten_thousand_days\n",
    "\n",
    "print(\"You will be (or were) 10,000 days old on\", ten_thousand_days_old)"
   ]
  },
  {
   "cell_type": "code",
   "execution_count": null,
   "id": "55dc6c46",
   "metadata": {},
   "outputs": [],
   "source": []
  }
 ],
 "metadata": {
  "kernelspec": {
   "display_name": "Python 3 (ipykernel)",
   "language": "python",
   "name": "python3"
  },
  "language_info": {
   "codemirror_mode": {
    "name": "ipython",
    "version": 3
   },
   "file_extension": ".py",
   "mimetype": "text/x-python",
   "name": "python",
   "nbconvert_exporter": "python",
   "pygments_lexer": "ipython3",
   "version": "3.10.9"
  }
 },
 "nbformat": 4,
 "nbformat_minor": 5
}
