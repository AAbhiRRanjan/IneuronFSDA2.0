{
 "cells": [
  {
   "cell_type": "markdown",
   "id": "325e20bb",
   "metadata": {},
   "source": [
    "# Python Assignment 22"
   ]
  },
  {
   "cell_type": "markdown",
   "id": "d07d43c2",
   "metadata": {},
   "source": [
    "Q1. What is the result of the code, and explain?"
   ]
  },
  {
   "cell_type": "code",
   "execution_count": 2,
   "id": "85c48b49",
   "metadata": {},
   "outputs": [
    {
     "name": "stdout",
     "output_type": "stream",
     "text": [
      "iNeuron\n"
     ]
    }
   ],
   "source": [
    "X = 'iNeuron'\n",
    "def func():\n",
    "    print(X)\n",
    "func()"
   ]
  },
  {
   "cell_type": "markdown",
   "id": "9a164fee",
   "metadata": {},
   "source": [
    "Answer 1."
   ]
  },
  {
   "cell_type": "markdown",
   "id": "def4e87c",
   "metadata": {},
   "source": [
    "iNeuron\n",
    "This code defines a variable X with the string value 'iNeuron' and a function func() that prints the value of X.\n",
    "\n",
    "When func() is called on the last line with func(), it prints the value of X which is 'iNeuron'.\n",
    "\n",
    "So, the output of running this code will be:\n",
    "\n",
    "iNeuron"
   ]
  },
  {
   "cell_type": "markdown",
   "id": "7bf67d05",
   "metadata": {},
   "source": [
    "Q2. What is the result of the code, and explain?"
   ]
  },
  {
   "cell_type": "code",
   "execution_count": 4,
   "id": "8b918e1a",
   "metadata": {},
   "outputs": [
    {
     "name": "stdout",
     "output_type": "stream",
     "text": [
      "iNeuron\n"
     ]
    }
   ],
   "source": [
    "X = 'iNeuron'\n",
    "def func():\n",
    "    X = 'NI!'\n",
    "\n",
    "    \n",
    "func()\n",
    "print(X)"
   ]
  },
  {
   "cell_type": "markdown",
   "id": "6a6a48b2",
   "metadata": {},
   "source": [
    "Answer 2."
   ]
  },
  {
   "cell_type": "markdown",
   "id": "2da2eb61",
   "metadata": {},
   "source": [
    "iNeuron\n",
    "The output of the code will be iNeuron.\n",
    "\n",
    "When the code is executed, the function func() is defined and called. Inside the function, the variable X is assigned the value NI!. However, this variable is a local variable that only exists within the scope of the function func(). When the function func() finishes executing, the local variable X is destroyed.\n",
    "\n",
    "The print() statement outside the function func() prints the global variable X, which was defined before the function was called and remains unchanged by the function call. Therefore, the value of X remains iNeuron, which is printed to the console."
   ]
  },
  {
   "cell_type": "markdown",
   "id": "ff7a2bd3",
   "metadata": {},
   "source": [
    "Q3. What does this code print, and why?"
   ]
  },
  {
   "cell_type": "code",
   "execution_count": 5,
   "id": "cd54454b",
   "metadata": {},
   "outputs": [
    {
     "name": "stdout",
     "output_type": "stream",
     "text": [
      "iNeuron\n",
      "iNeuron\n"
     ]
    }
   ],
   "source": [
    "X = 'iNeuron'\n",
    "def func():\n",
    "    X = 'NI'\n",
    "print(X)\n",
    "\n",
    "\n",
    "func()\n",
    "print(X)"
   ]
  },
  {
   "cell_type": "markdown",
   "id": "c05092f3",
   "metadata": {},
   "source": [
    "NI\n",
    "iNeuron\n",
    "When the function func() is called, it assigns the value 'NI' to the local variable X inside the function's scope, and then prints it. So the first print statement inside the function will output 'NI'.\n",
    "\n",
    "However, the second print statement outside the function is not affected by the local variable X inside the function's scope. Instead, it refers to the global variable X which was defined outside of the function and has the value 'iNeuron'. So the second print statement will output 'iNeuron'."
   ]
  },
  {
   "cell_type": "markdown",
   "id": "f15aebc3",
   "metadata": {},
   "source": [
    "Q4. What output does this code produce? Why?"
   ]
  },
  {
   "cell_type": "code",
   "execution_count": 6,
   "id": "e20aae37",
   "metadata": {},
   "outputs": [
    {
     "name": "stdout",
     "output_type": "stream",
     "text": [
      "NI\n"
     ]
    }
   ],
   "source": [
    "X = 'iNeuron'\n",
    "def func():\n",
    "    global X\n",
    "    X = 'NI'\n",
    "\n",
    "\n",
    "func()\n",
    "print(X)"
   ]
  },
  {
   "cell_type": "markdown",
   "id": "16c0e019",
   "metadata": {},
   "source": [
    "Answer 4."
   ]
  },
  {
   "cell_type": "markdown",
   "id": "fe8c77bf",
   "metadata": {},
   "source": [
    "NI\n",
    "In this updated code, the function func() uses the global keyword to declare that the variable X inside the function should refer to the global variable X defined outside of the function's scope.\n",
    "\n",
    "So when func() is called, it changes the value of the global variable X to 'NI'.\n",
    "\n",
    "Then when print(X) is called outside of the function, it refers to the updated value of the global variable X and prints 'NI'."
   ]
  },
  {
   "cell_type": "markdown",
   "id": "6bc350b7",
   "metadata": {},
   "source": [
    "Q5. What about this code—what’s the output, and why?"
   ]
  },
  {
   "cell_type": "code",
   "execution_count": 12,
   "id": "45dab84e",
   "metadata": {},
   "outputs": [
    {
     "data": {
      "text/plain": [
       "'iNeuron'"
      ]
     },
     "execution_count": 12,
     "metadata": {},
     "output_type": "execute_result"
    }
   ],
   "source": [
    "X = 'iNeuron'\n",
    "def func():\n",
    "    X = 'NI'\n",
    "    def nested():\n",
    "        print(X)\n",
    "        nested()\n",
    "\n",
    "\n",
    "func()\n",
    "X"
   ]
  },
  {
   "cell_type": "markdown",
   "id": "6e26bda8",
   "metadata": {},
   "source": [
    "Answer 5."
   ]
  },
  {
   "cell_type": "markdown",
   "id": "bc46e89f",
   "metadata": {},
   "source": [
    "NI\n",
    "'iNeuron'\n",
    "First, a variable X is created and assigned the value 'iNeuron'. Then, a function named func is defined. Within the function, a new variable X is created and assigned the value 'NI'. Inside func, another function named nested is defined. When nested is executed, it will print the value of X, which is 'NI'. The func function is then called, which in turn calls nested. This prints the value 'NI'. Finally, after the func function has been executed, the value of X is printed, which is still 'iNeuron'. The reason why nested function prints 'NI' instead of 'iNeuron' is because it first looks for the value of X in its own scope. Since X is not defined in nested, it then looks up the scope chain to find the value of X, which is 'NI' in the func scope."
   ]
  },
  {
   "cell_type": "markdown",
   "id": "479f806a",
   "metadata": {},
   "source": [
    "Q6. How about this code: what is its output in Python 3, and explain?"
   ]
  },
  {
   "cell_type": "code",
   "execution_count": 19,
   "id": "c02dbc69",
   "metadata": {},
   "outputs": [
    {
     "name": "stdout",
     "output_type": "stream",
     "text": [
      "Spam\n"
     ]
    }
   ],
   "source": [
    "def func():\n",
    "    X = 'NI'\n",
    "    def nested():\n",
    "        nonlocal X\n",
    "        X = 'Spam'\n",
    "    nested()\n",
    "    print(X)\n",
    "\n",
    "\n",
    "func()"
   ]
  },
  {
   "cell_type": "markdown",
   "id": "b5254bd4",
   "metadata": {},
   "source": [
    "Answer 6."
   ]
  },
  {
   "cell_type": "markdown",
   "id": "1e166c3a",
   "metadata": {},
   "source": [
    "Spam\n",
    "The code defines a function called func that creates a nested function called nested. The nested function uses the nonlocal keyword to indicate that it wants to modify the value of the variable X defined in the outer function func.\n",
    "\n",
    "When the func function is called, it first sets the value of X to be the string 'NI'. It then calls the nested function, which changes the value of X to be the string 'Spam'.\n",
    "\n",
    "Finally, the func function prints the value of X, which is now 'Spam'. Therefore, the output of the code, when executed in Python 3, will be:\n",
    "\n",
    "Spam"
   ]
  },
  {
   "cell_type": "code",
   "execution_count": null,
   "id": "bd2981e2",
   "metadata": {},
   "outputs": [],
   "source": []
  }
 ],
 "metadata": {
  "kernelspec": {
   "display_name": "Python 3 (ipykernel)",
   "language": "python",
   "name": "python3"
  },
  "language_info": {
   "codemirror_mode": {
    "name": "ipython",
    "version": 3
   },
   "file_extension": ".py",
   "mimetype": "text/x-python",
   "name": "python",
   "nbconvert_exporter": "python",
   "pygments_lexer": "ipython3",
   "version": "3.10.9"
  }
 },
 "nbformat": 4,
 "nbformat_minor": 5
}
