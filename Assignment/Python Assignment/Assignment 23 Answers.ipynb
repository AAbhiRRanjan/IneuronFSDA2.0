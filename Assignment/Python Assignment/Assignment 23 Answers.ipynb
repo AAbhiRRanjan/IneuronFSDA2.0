{
 "cells": [
  {
   "cell_type": "markdown",
   "id": "f1c018d6",
   "metadata": {},
   "source": [
    "# Python Assignment 23"
   ]
  },
  {
   "cell_type": "markdown",
   "id": "c5fb4083",
   "metadata": {},
   "source": [
    "Q1. What is the result of the code, and why?"
   ]
  },
  {
   "cell_type": "code",
   "execution_count": 3,
   "id": "be9c9f6d",
   "metadata": {},
   "outputs": [
    {
     "name": "stdout",
     "output_type": "stream",
     "text": [
      "1 2 8\n"
     ]
    }
   ],
   "source": [
    "def func(a, b=6, c=8):\n",
    "    print(a, b, c)\n",
    "func(1, 2)"
   ]
  },
  {
   "cell_type": "markdown",
   "id": "97ce9b09",
   "metadata": {},
   "source": [
    "Answer 1."
   ]
  },
  {
   "cell_type": "markdown",
   "id": "9396c510",
   "metadata": {},
   "source": [
    "The output of the code will be: 1 2 8\n",
    "\n",
    "The function func takes three parameters, a, b, and c, with default values of 6 and 8 for b and c, respectively.\n",
    "When the function is called with func(1, 2), a is assigned the value 1, b is assigned the value 2, and c retains\n",
    "its default value of 8. Therefore, when the print statement is executed, the output will be 1 2 8."
   ]
  },
  {
   "cell_type": "markdown",
   "id": "c7531adb",
   "metadata": {},
   "source": [
    "Q2. What is the result of this code, and why?"
   ]
  },
  {
   "cell_type": "code",
   "execution_count": 4,
   "id": "32309677",
   "metadata": {},
   "outputs": [
    {
     "name": "stdout",
     "output_type": "stream",
     "text": [
      "1 2 3\n"
     ]
    }
   ],
   "source": [
    "def func(a, b, c=5):\n",
    "    print(a, b, c)\n",
    "func(1, c=3, b=2)"
   ]
  },
  {
   "cell_type": "markdown",
   "id": "30fd82b0",
   "metadata": {},
   "source": [
    "Answer 2."
   ]
  },
  {
   "cell_type": "markdown",
   "id": "420ff6ee",
   "metadata": {},
   "source": [
    "The function func takes three parameters, a, b, and c, with a default value of 5 for c. When the function is called with func(1, c=3, b=2), a is assigned the value 1, b is assigned the value 2, and c is assigned the value 3, overriding its default value. Therefore, when the print statement is executed, the output will be 1 2 3. Note that the order in which the arguments are passed is not important when they are explicitly named."
   ]
  },
  {
   "cell_type": "markdown",
   "id": "65563a83",
   "metadata": {},
   "source": [
    "Q3. How about this code: what is its result, and why?"
   ]
  },
  {
   "cell_type": "code",
   "execution_count": 5,
   "id": "6143d887",
   "metadata": {},
   "outputs": [
    {
     "name": "stdout",
     "output_type": "stream",
     "text": [
      "1 (2, 3)\n"
     ]
    }
   ],
   "source": [
    "def func(a, *pargs):\n",
    "    print(a, pargs)\n",
    "func(1, 2, 3)"
   ]
  },
  {
   "cell_type": "markdown",
   "id": "12b30d5f",
   "metadata": {},
   "source": [
    "Answer 3."
   ]
  },
  {
   "cell_type": "markdown",
   "id": "00f699e2",
   "metadata": {},
   "source": [
    "The function func takes one required parameter, a, and an arbitrary number of positional arguments, *pargs, which are packed into a tuple. When the function is called with func(1, 2, 3), a is assigned the value 1, and the remaining arguments, 2 and 3, are packed into the pargs tuple. Therefore, when the print statement is executed, the output will be 1 (2, 3), where pargs is a tuple containing the remaining positional arguments."
   ]
  },
  {
   "cell_type": "markdown",
   "id": "c0022502",
   "metadata": {},
   "source": [
    "Q4. What does this code print, and why?"
   ]
  },
  {
   "cell_type": "code",
   "execution_count": 6,
   "id": "f96d1751",
   "metadata": {},
   "outputs": [
    {
     "name": "stdout",
     "output_type": "stream",
     "text": [
      "1 {'c': 3, 'b': 2}\n"
     ]
    }
   ],
   "source": [
    "def func(a, **kargs):\n",
    "    print(a, kargs)\n",
    "func(a=1, c=3, b=2)"
   ]
  },
  {
   "cell_type": "markdown",
   "id": "f7682b1a",
   "metadata": {},
   "source": [
    "Answer 4."
   ]
  },
  {
   "cell_type": "markdown",
   "id": "6e5f0f8f",
   "metadata": {},
   "source": [
    "The function func takes one required parameter, a, and an arbitrary number of keyword arguments, **kargs, which are packed into a dictionary. When the function is called with func(a=1, c=3, b=2), a is assigned the value 1, and the remaining keyword arguments, c=3 and b=2, are packed into the kargs dictionary. Therefore, when the print statement is executed, the output will be 1 {'c': 3, 'b': 2}, where kargs is a dictionary containing the remaining keyword arguments."
   ]
  },
  {
   "cell_type": "markdown",
   "id": "24f106f5",
   "metadata": {},
   "source": [
    "Q5. What gets printed by this, and explain?"
   ]
  },
  {
   "cell_type": "code",
   "execution_count": 7,
   "id": "5d63cd51",
   "metadata": {},
   "outputs": [
    {
     "name": "stdout",
     "output_type": "stream",
     "text": [
      "1 5 6 5\n"
     ]
    }
   ],
   "source": [
    "def func(a, b, c=8, d=5): print(a, b, c, d)\n",
    "func(1, *(5, 6))"
   ]
  },
  {
   "cell_type": "markdown",
   "id": "b8bdcb7a",
   "metadata": {},
   "source": [
    "Answer 5."
   ]
  },
  {
   "cell_type": "markdown",
   "id": "93e3744b",
   "metadata": {},
   "source": [
    "The function func takes four parameters, a, b, c, and d, with default values of 8 and 5 for c and d, respectively. When the function is called with func(1, *(5, 6)), a is assigned the value 1, b is assigned the first value in the tuple, which is 5, and the remaining values in the tuple, which are 6, are assigned to c and d in order. Therefore, when the print statement is executed, the output will be 1 5 6 5, where b is 5, c is 6, and d retains its default value of 5.\n",
    "\n",
    "The use of the * operator before the pargs tuple is called \"tuple unpacking\". It allows the values in the tuple to be passed as separate positional arguments to the function. In this case, the values in the tuple are (5, 6), which are unpacked and passed as the second and third positional arguments, respectively."
   ]
  },
  {
   "cell_type": "markdown",
   "id": "c8b6c77c",
   "metadata": {},
   "source": [
    "Q6. what is the result of this, and explain?"
   ]
  },
  {
   "cell_type": "code",
   "execution_count": 1,
   "id": "d3146e21",
   "metadata": {},
   "outputs": [],
   "source": [
    "def func(a, b, c): a = 2; b[0] = 'x'; c['a'] = 'y'\n",
    "l=1; m=[1]; n={'a':0}\n",
    "func(l, m, n)"
   ]
  },
  {
   "cell_type": "markdown",
   "id": "d7b8bea9",
   "metadata": {},
   "source": [
    "Answer 6."
   ]
  },
  {
   "cell_type": "markdown",
   "id": "aae5cd78",
   "metadata": {},
   "source": [
    "The function func takes three parameters, a, b, and c. In the body of the function, a is assigned the value 2, b[0] is assigned the value 'x', and c['a'] is assigned the value 'y'.\n",
    "\n",
    "When the function is called with func(l, m, n), the variables l, m, and n are passed as arguments to the function. Since l is an immutable object (an integer), it is passed by value, and the assignment a = 2 within the function has no effect on its value outside the function. However, m and n are mutable objects (a list and a dictionary,respectively), so they are passed by reference, and any changes made to them within the function affect their values outside the function. Therefore, after the function is called, l retains its original value of 1, m is modified to ['x'], and n is modified to {'a': 'y'}.\n",
    "\n",
    "Finally, when the print statement is executed after the function call, the output will be 1 ['x'] {'a': 'y'}, which shows the modified values of l, m, and n."
   ]
  },
  {
   "cell_type": "code",
   "execution_count": null,
   "id": "bb338b4f",
   "metadata": {},
   "outputs": [],
   "source": []
  }
 ],
 "metadata": {
  "kernelspec": {
   "display_name": "Python 3 (ipykernel)",
   "language": "python",
   "name": "python3"
  },
  "language_info": {
   "codemirror_mode": {
    "name": "ipython",
    "version": 3
   },
   "file_extension": ".py",
   "mimetype": "text/x-python",
   "name": "python",
   "nbconvert_exporter": "python",
   "pygments_lexer": "ipython3",
   "version": "3.10.9"
  }
 },
 "nbformat": 4,
 "nbformat_minor": 5
}
